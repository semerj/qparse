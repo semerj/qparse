{
 "metadata": {
  "name": "",
  "signature": "sha256:c1fe6721fea88d5fc26c2efeb4ecf0285d5dd1f57c6a3237ff312313513d1872"
 },
 "nbformat": 3,
 "nbformat_minor": 0,
 "worksheets": [
  {
   "cells": [
    {
     "cell_type": "markdown",
     "metadata": {},
     "source": [
      "QParse is a tool for extrating quotations from news articles in a structured way and associating them with speakers and organizations. "
     ]
    },
    {
     "cell_type": "markdown",
     "metadata": {},
     "source": [
      "##How it works\n",
      "QParse utilizes a multi-part processing pipeline:\n",
      "\n",
      "1. With a supervised classification algorithm (adapted from an existing open-source project, [Citizen Quotes](https://github.com/cirlabs/citizen-quotes)), we identify paragraphs that are likely to contain quotations.\n",
      "2. With the Stanford CoreNLP tool, we reconcile coreference chains with named entities to aid speaker identification.\n",
      "3. We use a rule-based chunking algorithm to extract quotation and speaker features from the paragraphs identified by our classifier and choose the most likely answers.\n",
      "4. We use a second rule-based algorithm to associate the identified speakers with their job titles and organizations with regular expressions."
     ]
    },
    {
     "cell_type": "markdown",
     "metadata": {},
     "source": [
      "##Browse the results\n",
      "Click on \"Browse\" to explore our pre-processed articles, indexed by article, speaker, and organization"
     ]
    },
    {
     "cell_type": "markdown",
     "metadata": {},
     "source": [
      "##Try it out\n",
      "QParse your own article! Copy/paste the text of a news article into QParse and see how well it does. *(Warning: it's super slow, be prepared to wait a minute or so.)*"
     ]
    },
    {
     "cell_type": "code",
     "collapsed": false,
     "input": [],
     "language": "python",
     "metadata": {},
     "outputs": []
    }
   ],
   "metadata": {}
  }
 ]
}