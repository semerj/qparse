{
 "metadata": {
  "name": "",
  "signature": "sha256:27fc8c29037e7300764588be6fe07be6913eb876668cf572f9c18f53b795e537"
 },
 "nbformat": 3,
 "nbformat_minor": 0,
 "worksheets": [
  {
   "cells": [
    {
     "cell_type": "code",
     "collapsed": false,
     "input": [
      "import sqlite3\n",
      "import nltk\n",
      "import re\n",
      "from collections import Counter\n",
      "from nltk import ne_chunk, pos_tag, word_tokenize\n",
      "from nltk import RegexpParser\n",
      "import nltk.chunk\n",
      "import itertools\n",
      "from nltk.tokenize import sent_tokenize\n",
      "import nltk.text"
     ],
     "language": "python",
     "metadata": {},
     "outputs": [],
     "prompt_number": 270
    },
    {
     "cell_type": "code",
     "collapsed": false,
     "input": [
      "conn = sqlite3.connect('quotex')\n",
      "c = conn.cursor()"
     ],
     "language": "python",
     "metadata": {},
     "outputs": [],
     "prompt_number": 107
    },
    {
     "cell_type": "code",
     "collapsed": false,
     "input": [
      "tables = c.execute(\"SELECT name FROM sqlite_master WHERE type='table';\")\n",
      "for t in tables:\n",
      "    print t"
     ],
     "language": "python",
     "metadata": {},
     "outputs": [
      {
       "output_type": "stream",
       "stream": "stdout",
       "text": [
        "(u'auth_permission',)\n",
        "(u'auth_group_permissions',)\n",
        "(u'auth_group',)\n",
        "(u'auth_user_user_permissions',)\n",
        "(u'auth_user_groups',)\n",
        "(u'auth_user',)\n",
        "(u'django_content_type',)\n",
        "(u'django_session',)\n",
        "(u'django_site',)\n",
        "(u'django_admin_log',)\n",
        "(u'content_story',)\n",
        "(u'content_paragraph_sources',)\n",
        "(u'content_paragraph',)\n",
        "(u'content_source',)\n"
       ]
      }
     ],
     "prompt_number": 108
    },
    {
     "cell_type": "code",
     "collapsed": false,
     "input": [
      "content_paragraph = c.execute(\"SELECT * FROM content_paragraph;\")\n",
      "sqlite_data = []\n",
      "for c in content_paragraph:\n",
      "    sqlite_data.append(c)"
     ],
     "language": "python",
     "metadata": {},
     "outputs": [],
     "prompt_number": 109
    },
    {
     "cell_type": "code",
     "collapsed": false,
     "input": [
      "Counter([row[3] for row in sqlite_data])"
     ],
     "language": "python",
     "metadata": {},
     "outputs": [
      {
       "metadata": {},
       "output_type": "pyout",
       "prompt_number": 110,
       "text": [
        "Counter({0: 1335, 1: 578})"
       ]
      }
     ],
     "prompt_number": 110
    },
    {
     "cell_type": "code",
     "collapsed": false,
     "input": [
      "tagged_data = []\n",
      "for k, v in enumerate(sqlite_data):\n",
      "    if v[3] in [0, 1]:\n",
      "        tagged_data.append(v)"
     ],
     "language": "python",
     "metadata": {},
     "outputs": [],
     "prompt_number": 111
    },
    {
     "cell_type": "code",
     "collapsed": false,
     "input": [
      "#just grab the quoted lines, remove unicode stuff\n",
      "qtlines = []\n",
      "for t in tagged_data:\n",
      "    if t[3] == 1:\n",
      "        qtlines.append(t[2].encode('utf-8').strip())\n",
      "qtlines2 = []\n",
      "for q in qtlines:\n",
      "    qtlines2.append(q.decode('ascii', 'ignore'))"
     ],
     "language": "python",
     "metadata": {},
     "outputs": [],
     "prompt_number": 112
    },
    {
     "cell_type": "code",
     "collapsed": false,
     "input": [
      "trees = []\n",
      "for q in qtlines2[1:2]:\n",
      "    tree = text2tree(q)\n",
      "    trees.append(tree)"
     ],
     "language": "python",
     "metadata": {},
     "outputs": [],
     "prompt_number": 153
    },
    {
     "cell_type": "code",
     "collapsed": false,
     "input": [
      "stuff = []\n",
      "sentences = []\n",
      "words = []\n",
      "counter = 0 \n",
      "#need to put the results into a tuple so you can figure out how the sentences relate to a paragraph\n",
      "for q in qtlines2:\n",
      "    sents = sent_tokenize(q)\n",
      "    sentitems = []\n",
      "    for sent in sents:\n",
      "     sentences.append(sent)\n",
      "     words = words + word_tokenize(sent)\n",
      "     sentitems.append(pos_tag(word_tokenize(sent)))\n",
      "     stuff.append((counter, sentitems))\n",
      "    counter = counter + 1\n",
      "#for s in sentences:\n",
      "  #  print \"***\"\n",
      "   # print s"
     ],
     "language": "python",
     "metadata": {},
     "outputs": [],
     "prompt_number": 580
    },
    {
     "cell_type": "code",
     "collapsed": false,
     "input": [
      "#chunker rule to rip the quote out\n",
      "#just the quote\n",
      "plainqt = 'QT: { (<``>|<\\'\\'>)+  <.*>+ (<''>|<\\'\\'>) }'\n",
      "#everything in front of the quote plus the quote\n",
      "qtbegin = 'QT: { <.*>+ (<``>|<\\'\\'>)+  <.*>+ (<''>|<\\'\\'>) }'\n",
      "#everything after the quote\n",
      "qtend = 'QT: { (<``>|<\\'\\'>)+  <.*>+ (<''>|<\\'\\'>)+ <.*>+ }'\n",
      "\n",
      "#now try chinking- aka exclude patterns\n",
      "#grab everything before or after the quote and then discard the quote\n",
      "qtbeginstuff = '''QT: \n",
      "                    { <.*>+ (<``>|<\\'\\'>)+  <.*>+ (<''>|<\\'\\'>) }\n",
      "                    }(<``>|<\\'\\'>)+ <.*>+ (<''>|<\\'\\'>){                    \n",
      "                '''\n",
      "qtendstuff = '''QT: \n",
      "                   { (<``>|<\\'\\'>)+  <.*>+ (<''>|<\\'\\'>)+ <.*>+ }\n",
      "                   }(<``>|<\\'\\'>)+ <.*>+ (<''>|<\\'\\'>){  \n",
      "             '''\n",
      "\n",
      "#try to parse common patterns after a quote\n",
      "#find the peep after a quote: ex: said Dick Chaney\n",
      "qtendpeepsaidafter = '''QT: \n",
      "                       { (<``>|<\\'\\'>)+  <.*>+ (<''>|<\\'\\'>)+ <.*>+ }\n",
      "                       }(<``>|<\\'\\'>)+ <.*>+ (<''>|<\\'\\'>){ \n",
      "                       {(<states>|<stated>|<said>|<expressed>|<told>|<exclaimed>|<announced><added>)+}\n",
      "                 '''\n",
      "\n",
      "#get the easiest stuff first out of the start and end of the quotes...need to refine this more\n",
      "peepsbeginqt = '''QT: \n",
      "                    { (<DT>?<RB>?)?<JJ|CD>*(<JJ|CD><,>)*(<NN.*>)+ <VB.*> <,>?  } \n",
      "                    } <VB.*> {\n",
      "                    } <,> {\n",
      "                '''\n",
      "\n",
      "peepsendqt = '''QT: \n",
      "                    { (<DT>?<RB>?)?<JJ|CD>*(<JJ|CD><,>)*(<NN.*>)+ <,>?  } \n",
      "                '''\n",
      "\n",
      "#chunk and parse, and then put the remaining words back to together\n",
      "def chunktext(sentencelist, rule):\n",
      "    peepsdict = []\n",
      "    for item in sentencelist:\n",
      "      for sent in item[1]:\n",
      "            itemdict = []\n",
      "            cp = nltk.RegexpParser(rule)\n",
      "            tree = cp.parse(sent)\n",
      "            for subtree in tree.subtrees():\n",
      "                if subtree.label() == 'QT': \n",
      "                 words =  [word[0] for word in subtree]\n",
      "                 words = \" \".join(words)\n",
      "                 itemdict.append(words)\n",
      "            if len(itemdict) > 0:\n",
      "                peep = (item[0], \" \".join(itemdict)) \n",
      "                peepsdict.append(peep)\n",
      "    peepsdict = list(set(peepsdict))\n",
      "    return peepsdict"
     ],
     "language": "python",
     "metadata": {},
     "outputs": [],
     "prompt_number": 581
    },
    {
     "cell_type": "code",
     "collapsed": false,
     "input": [
      "endqtpeeps = chunktext(stuff, qtendpeepsaidafter)\n",
      "startqtpeeps = chunktext(stuff, qtbeginstuff)"
     ],
     "language": "python",
     "metadata": {},
     "outputs": [],
     "prompt_number": 585
    },
    {
     "cell_type": "code",
     "collapsed": false,
     "input": [
      "#startpeepspre = [(peep[0], [pos_tag(word_tokenize(peep[1]))]) for peep in startqtpeeps]\n",
      "#startpeeps = chunktext(startpeepspre, peepsbeginqt)\n",
      "endpeepspre = [(peep[0], [pos_tag(word_tokenize(peep[1]))]) for peep in endqtpeeps]\n",
      "endpeeps = chunktext(endpeepspre, peepsendqt)      \n",
      "#print endqtpeeps\n",
      "print endpeeps"
     ],
     "language": "python",
     "metadata": {},
     "outputs": [
      {
       "output_type": "stream",
       "stream": "stdout",
       "text": [
        "[(6, u'DeAngelo'), (172, u'De La Fuente'), (231, u'Policarpio'), (61, u'Esposto a series questions Schiefen computer habits preference pornography'), (522, u'Don Neuwirth , program manager the Oakland Schoolyard Initiative , a partnership nonprofit groups the Oakland Unified School District , the local elementary school yard this summer'), (78, u'Knobel'), (387, u'Mark Latonero , director research the Annenberg Center Communication Leadership Policy'), (367, u'Eiko'), (532, u'David McGhee , chief executive the Association California Healthcare Districts'), (187, u'the form reads'), (470, u'a close friend Mirkarimi told The Bay Citizen'), (534, u'Dev Mahadevan , the district chief executive'), (536, u'Fama'), (496, u'Vredenburg'), (423, u'Lee'), (62, u'Weyl wanting the suspect'), (233, u'Oversier , comment the Chicago recall Bombardier bid'), (530, u'Judy Nadler , a senior fellow government ethics Santa Clara University Markkula Center Applied Ethics a former mayor the city Santa Clara'), (476, u'a ban career law enforcement'), (526, u'the developer son , lives Marin prefers modern architecture'), (336, u'Perryman'), (390, u'Kris Hunt , executive director the Contra Costa Taxpayers Association'), (499, u'intensive care dying wife'), (211, u'Tomikoa'), (452, u'Audrey adding the services home income'), (337, u'Harvey'), (472, u'former San Francisco Mayor Art Agnos an interview'), (455, u'some families ,'), (16, u'Bonnie Trinclisti'), (26, u'Katz'), (444, u'former mayor Palo Alto Peter Drekmeier'), (28, u'Mr. Winnicker'), (214, u'Clark'), (196, u'Bayard'), (497, u'Vredenburg'), (523, u'Arrington'), (210, u'reporters the home Friday afternoon'), (335, u'Wayne Perryman , leader the National Oceanic Atmospheric Administration cetacean health life history program the agency office La Jolla'), (15, u'Trinclisti'), (139, u'Schachter'), (501, u'Harvey , sobs'), (393, u'Doss'), (167, u'adding assessment anecdotal information , not numbers'), (72, u'Woo'), (0, u'saidCalifornia State Parks Foundationpresident Elizabeth Goldstein'), (180, u'Albertoli'), (555, u'Crane'), (175, u'Albertoli'), (433, u'Arntz'), (5, u'Overman'), (469, u'Donna Levitt , a division manager'), (58, u'Esposto citing research police records'), (34, u'Lee'), (88, u'a similar case , McCabe'), (406, u'Charlie Pappas , San Francisco Divinity Tree dispensary late last year a federal letter'), (450, u'Lee'), (265, u'Bob Kimsey , anentomology professor the University California , Davis , the fluorescent arthropods subspecies Xystocheir dissecta , a species the Bay Area'), (96, u'Robinson'), (380, u'online sex'), (384, u'Detective Vincent Repetto the special victims unit'), (513, u'Stiglich'), (59, u'Weyl'), (258, u'office.Mirkarimi a member the Board Supervisors wife'), (138, u'Schachter'), (35, u'saidRussell Hancock , the president CEO Joint Venture Silicon Valley , a research group businesses local governments'), (545, u'Oakley'), (369, u'Eiko'), (331, u'Shaw'), (27, u'Mr. Lee'), (327, u'Stiglichsaid'), (507, u'Lee a statement'), (275, u'Canny'), (64, u'Esposto'), (448, u'Lee'), (494, u'Natalie Reeder , the lead author the study spent two years different species frogs Kings Canyon National Park part a masters'), (574, u'the experience reading strangers feeds Facebook Twitter'), (54, u'Esposto'), (272, u'Lee'), (408, u'Shum Preston , a spokesman Harris'), (313, u'Upton the Monday afternoon news conference Gascn'), (41, u'windows Fuller'), (109, u'Klaas glancing the school multipurpose room , a makeshift command center today'), (552, u'Goodwin'), (101, u'Archipley'), (436, u'Bolton ACLU NLG'), (372, u'Black'), (525, u'Figg'), (126, u'Brian Kelley , The Bay Citizen interim CEO'), (544, u'Oakley'), (375, u'Linda Lye , a staff attorney the American Civil Liberties Union Northern California , protesters lawsuits Oakland UC Davis'), (38, u'Fletcher'), (330, u'Peter Cohen , co-director the Council Community Housing Organizations , lobbies behalf nonprofit housing developers'), (219, u'Rockwell'), (498, u'Assistant District Attorney Sarah Hawkins'), (553, u'Goodwin'), (376, u'Jesse Choper , a professor the university law school chairman the review board'), (442, u'Enid Pearson , a former City Council member opposes the facility'), (556, u'Stephanie Ong Stillman , a spokeswoman the District Attorney Office'), (521, u'Kristine Shaff , a spokeswoman the Oakland Public Works Agency'), (435, u'Linda Lye , the staff attorney the ACLU Northern California the letter OPD'), (561, u'Block an email'), (161, u'Sue Piper , the spokeswoman the mayor office'), (422, u'Davis the local newspaper , the Vallejo Times-Herald'), (122, u'Waggoner a statement'), (447, u'affordable housing'), (510, u'the court'), (93, u'Costa'), (286, u'Bobel'), (70, u'Kriss Worthington , a City Council member'), (140, u'Gerry Shih , a reporter The Bay Citizen launch December , Reuters a technology reporter'), (235, u'Greg Harper , the AC Transit board'), (128, u') Hellman a press release'), (378, u'Bolton'), (451, u'Lee'), (91, u'Jorge Costa , the Giants operations director'), (234, u'Peeples'), (123, u'the charges'), (550, u'Rocco'), (535, u'William Chiat , executive director the California Association Local Agency Formation Commissions , the state 58 commissions'), (112, u'Michael Le this morning'), (573, u'European fiction eras'), (32, u'Lee an interview'), (245, u'the report'), (564, u'Voigt'), (20, u'Rick Laubscher , president Market Street Railway , a nonprofit group preserving Muni history'), (441, u'Wiener'), (132, u'Weber , the founding editor'), (125, u'Robert Rosenthal , CIR executive director'), (495, u'Vredenburg'), (151, u'saidCarey Morishige , Pacific Islands regional coordinator NOAA'), (102, u'Dwight Detter , a Vietnam veteran specialist Whole Foods supermarkets focus new vendors'), (205, u'Imseeh'), (468, u'Hillary Ronen , Campos chief staff'), (237, u'Montiel Rodriguez Spanish'), (417, u'Boyd'), (52, u'Esposto'), (31, u'the mayor an interview a goal legislation a tax break companies Airbnb'), (355, u'Roberts'), (517, u'investor-owned utilities these types projects'), (8, u'Serena Clayton , Executive Director the California School Health Centers Association'), (426, u'Lee'), (74, u'Adachi the judge ruling'), (113, u'22-year-old Vanna Ruiz , Morgan Hill'), (541, u'Capitelli'), (394, u'Rose'), (166, u'Piper'), (29, u'Aaron Peskin , a former Board Supervisors president now head the local Democratic Party'), (162, u'council member Ignacio De La Fuente , office requests the location the blocks'), (364, u'the experience a few feet friends naked bodies , 60 years'), (83, u'the agreement health care , jobs , taxpayers'), (557, u'Stiglich'), (186, u'Sinclair'), (229, u'Tejeda , two sons , Cesar Adolfo , the plant'), (379, u'Detective Jeremy Martinez the San Jose Police Human Trafficking Task Force'), (349, u'Money Mart a recent afternoon , Bank America'), (477, u'San Francisco Mayor Ed Lee a statement'), (42, u'Fletcher'), (185, u'Sinclair , the founder director Man Alive'), (518, u'Oakland City Council President Larry Reid , the area'), (481, u'Gascn'), (37, u'Jennifer Dunlop Fletcher , the exhibition curator'), (190, u'Dennis Robinson , a formerly homeless Army veteran Guilfoyle body'), (517, u'the author'), (11, u'Clayton'), (524, u'Mr. Neuwirth'), (200, u'any Veterans Affairs Medical Center extension'), (46, u'Campos'), (543, u'Peter Sussman , a former president the Northern California chapter the Society Professional Journalists First Amendment issues'), (411, u'Kevin Stein , associate director the California Reinvestment Coalition , a nonprofit advocacy group'), (129, u'Jonathan Weber , the site the West Coast bureau chief Reuters'), (218, u'Lani a goofy smile'), (559, u'Lemon'), (194, u'Sgt'), (241, u'Rojas , Spanish Thursday morning a patio moments the building a magnitude 5.2 aftershock'), (539, u'Oakley , lives Berkeley the city six years'), (47, u'Reiskin'), (263, u'30-plus years law enforcement'), (537, u'Fama'), (228, u'Walker repeating refrain an actor enunciation'), (318, u'Gascn'), (30, u'Cook'), (23, u'Rebecca Katz , head the agency'), (133, u'Weber'), (253, u'St. Croix'), (398, u'a lawsuit the city the police department'), (558, u'the case'), (135, u'Rosenthal'), (284, u'Malcolm Fartze , a resident the Fairmeadow neighborhood , the same day'), (505, u'Elizabeth Stampe WalkSF'), (282, u'Public Works manager Brad Eggleston the Finance Committee meeting'), (428, u'Cook'), (246, u'the date Hamilton family others'), (572, u'City Lights'), (520, u'Cynthia Arrington , the Sobrante Park Resident Action Council the Neighborhood Crime Prevention Council'), (320, u'Rusty Harris-Bishop , a superfund division liaison the EPA'), (174, u'Albertoli'), (51, u'Esposto , work computer , a child pornographer three years'), (560, u'Courtney Miller , a spokeswoman Block'), (268, u'the mayor'), (421, u'Schivley an interview'), (127, u'a text message , colleagues'), (268, u'Lee sober press conference 5 p.m. Tuesday'), (358, u'Oversier'), (437, u'Scheer'), (115, u'surroundings'), (319, u'one article theJournal Agricultural Food Chemistryin'), (13, u'Trinclisti'), (429, u'Cook'), (18, u'Peter Straus , Muni service planner'), (130, u'finances'), (50, u'Lt. Jason Fox , supervises the pair'), (207, u'Stephen Omatta , a third-grade teacher Tracy a career change'), (400, u'Martel'), (362, u'Anna Halprin , the dancer choreographer the Dancer Workshop Divisadero Street'), (12, u'Clayton'), (163, u'council member Rebecca Kaplan'), (240, u'Heaton'), (87, u'Assistant District Attorney Linda Allen the public defender office a conflict interest brother the murder case'), (269, u'Mirkarimi charges five days , Francis Tsang , a mayoral spokesman , a statement'), (454, u'Martin attending the support group concerns the future'), (57, u'Weyl'), (502, u'Ang , a recent college graduate'), (146, u'James Marcin , professor pediatric critical care medicine director the UC Davis Health System Pediatric Telemedicine Program'), (33, u'venture capital investments'), (554, u'Hiroyuke Iseki , an assistant professor University Maryland'), (179, u'Albertoli'), (206, u'Juan Sanchez , an officer checks the contenders'), (350, u'Anne Stuhldreher , a senior policy fellow New America Foundation , a nonprofit public policy organization'), (45, u'Reiskin'), (385, u'Rebecca Jeschke , director media relations the Electronic Frontier Foundation'), (114, u'Gilroy resident Jeannie McDevitt ,'), (425, u'campaign spokeswoman , Erica Fox'), (39, u'read an introductory tribute Stewart Brand , the publisher'), (71, u'Jim Ewert , general counsel the California Newspaper Publishers Association'), (348, u'the investigation'), (407, u'Cowan'), (266, u'Worth'), (529, u'Margaret Taylor , the former director the San Mateo County Health Department'), (254, u'Mirkarimi office'), (386, u'Bates , the Alameda district attorney office'), (377, u'Martel'), (438, u'Farrell'), (131, u'Rosenthal'), (165, u'a leaflet the mayor office reads'), (63, u'Schiefen'), (3, u'LandPaths executive director Craig Anderson'), (326, u'the moral authority sheriff ,'), (538, u'John Maltbie , county manager San Mateo County'), (19, u'Angie Murphy , a regular Muni commuter , a bus the rain the Financial District'), (332, u'Keighran'), (418, u'Boyd'), (155, u'the alliance'), (503, u'Bob Planthold SF Walks Rolls'), (383, u'Warren Newsome , a spokesman the only site an inquiry The Bay Citizen'), (515, u'the report reads'), (285, u'Foster City Mayor Art Kiesel November the city council a 6.4 percent increase garbage rate'), (242, u'Rojas'), (227, u'Walker authoritative baritone'), (431, u'Mirkarimi'), (357, u'Oversier'), (277, u'Canny'), (7, u'Alex Briscoe , Director Alameda County Health Care Services Agency , Oakland schools a prime example that challenge'), (547, u'Oakley'), (177, u'Talai'), (382, u'Detective Martinez'), (81, u'adding the filing Monday'), (220, u'visitors , the size the water drops data the National Oceanic Atmospheric Administration the new Exploratorium surroundings'), (176, u'no weapon connection the deaths'), (154, u'steel China the bridge project'), (213, u'2 a.m. Thursday night , noises Ocean Avenue night'), (509, u'Mirkarimi the court'), (540, u'Meehantold reportersKristin Bender Thomas Peele'), (181, u'no weapon connection the deaths'), (280, u'Phil Bobel , Interim Assistant Director Public Works Palo Alto'), (443, u'Mary Alice Thornton , the President the League Women Voters Palo Alto'), (10, u'Briscoe'), (381, u'whose photos , phone numbers , services prices profiles'), (427, u'Corey Cook , a political science professor the University San Francisco'), (307, u'the moral authority sheriff ,'), (223, u'eyes the round the board'), (44, u'Reiskin'), (232, u'Paul Oversier , assistant general manager operations BART'), (244, u'the report , Hamilton the facility'), (359, u'a teasing tone , Eiko the many holes the canvas'), (188, u'Beverly Upton , executive director the San Francisco Domestic Violence Consortium'), (73, u'Adachi the courtroom'), (346, u'Kaplan'), (14, u'Trinclisti'), (423, u'voice emotion'), (209, u'Eddie Silva ,'), (86, u'Sandoval'), (24, u'Mike Murray , director community outreach Pet Food Express'), (9, u'Clayton'), (149, u'John Largier , a University California , Davis oceanographer.Scientists small electronic transmitters , trackers , the tsunami'), (238, u'Doug Given , a project manager the U.S. Geological Survey earthquake monitoring program'), (37, u'a new exhibition Fuller visionary ideas influence the Bay Area , Friday the San Francisco Museum Modern Art'), (416, u'Montesano'), (156, u'campaign sparking changes federal , state local procurement policies'), (168, u'the same press conference'), (77, u'Robert Rosenthal , CIR executive director'), (361, u'Eiko'), (60, u'Fox'), (516, u'Cox'), (89, u'Olmo'), (259, u'the charges'), (321, u'Kelly Manheimer , EPA site manager the Heckathorn Site'), (563, u'Elisabeth Voigt , senior staff attorney Public Advocates , a civil rights organization San Francisco'), (388, u'a legal document Feb. Alameda County Court California Watch'), (402, u'Wolf'), (21, u'Reiskin , head the transportation agency'), (299, u'Tsang said.The mayor an announcement aboutthe case Tuesday , Tsang'), (329, u'Christine Falvey , Lee spokeswoman'), (17, u'Clayton the ACA'), (220, u'Rockwell'), (392, u'Commissioner Dwight Meadows'), (144, u'Simon'), (198, u'Meshad')]\n"
       ]
      }
     ],
     "prompt_number": 586
    },
    {
     "cell_type": "code",
     "collapsed": false,
     "input": [
      "#Example of Cascaded chunking ---> this could be very useful. \n",
      "grammar = r\"\"\"\n",
      "NP: {<DT|JJ|NN.*>+} # Chunk sequences of DT, JJ, NN\n",
      "PP: {<IN><NP>} # Chunk prepositions followed by NP\n",
      "VP: {<VB.*><NP|PP|S>+$} # Chunk rightmost verbs and arguments/adjun\n",
      "S: {<NP><VP>} # Chunk NP, VP\n",
      "\"\"\"\n",
      "cp = nltk.RegexpParser(grammar)\n",
      "tagged_tokens = [(\"Mary\", \"NN\"), (\"saw\", \"VBD\"), (\"the\", \"DT\"),\n",
      "(\"sit\", \"VB\"), (\"on\", \"IN\"), (\"the\", \"DT\"), (\"mat\", \"NN\")]\n",
      "print cp.parse(tagged_tokens)\n"
     ],
     "language": "python",
     "metadata": {},
     "outputs": [
      {
       "output_type": "stream",
       "stream": "stdout",
       "text": [
        "(S\n",
        "  (NP Mary/NN)\n",
        "  saw/VBD\n",
        "  (S (NP the/DT) (VP sit/VB (PP on/IN (NP the/DT mat/NN)))))\n"
       ]
      }
     ],
     "prompt_number": 584
    },
    {
     "cell_type": "code",
     "collapsed": false,
     "input": [
      "#function to pull out NER types\n",
      "def text2tree(text):\n",
      "    chunks = \\\n",
      "        ne_chunk(\n",
      "            pos_tag(\n",
      "                word_tokenize(text)))\n",
      "            #,\n",
      "        #binary=True) # binary only enables one type, \"NE\"\n",
      "    return chunks\n",
      "\n",
      "def chunk2entity(chunk):\n",
      "    return ' '.join(leaf[0] for leaf in chunk.leaves())\n",
      "\n",
      "def tree2entities(tree):\n",
      "    # set comprehension, what the fuck up!?\n",
      "    entities = {\n",
      "        chunk2entity(chunk)\n",
      "        for chunk in tree\n",
      "        if hasattr(chunk, 'node')\n",
      "    }\n",
      "    # yea!\n",
      "    return entities"
     ],
     "language": "python",
     "metadata": {},
     "outputs": [],
     "prompt_number": 139
    },
    {
     "cell_type": "code",
     "collapsed": false,
     "input": [],
     "language": "python",
     "metadata": {},
     "outputs": []
    },
    {
     "cell_type": "code",
     "collapsed": false,
     "input": [
      "for rel in nltk.sem.extract_rels('ORG', 'LOC', doc, corpus='ieer', pattern = IN):\n",
      "        print(nltk.sem.rtuple(rel))"
     ],
     "language": "python",
     "metadata": {},
     "outputs": []
    }
   ],
   "metadata": {}
  }
 ]
}