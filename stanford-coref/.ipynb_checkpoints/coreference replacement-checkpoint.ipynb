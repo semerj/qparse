{
 "metadata": {
  "name": "",
  "signature": "sha256:947693d4914826433ebd11c2e781e0cfca621c551192bc34052e4ae6fd5f9de4"
 },
 "nbformat": 3,
 "nbformat_minor": 0,
 "worksheets": [
  {
   "cells": [
    {
     "cell_type": "code",
     "collapsed": false,
     "input": [
      "import nltk"
     ],
     "language": "python",
     "metadata": {},
     "outputs": [],
     "prompt_number": 4
    },
    {
     "cell_type": "code",
     "collapsed": false,
     "input": [
      "nist = nltk.corpus.ieer"
     ],
     "language": "python",
     "metadata": {},
     "outputs": [],
     "prompt_number": 5
    },
    {
     "cell_type": "code",
     "collapsed": false,
     "input": [
      "doc = nist.parsed_docs()[12]"
     ],
     "language": "python",
     "metadata": {},
     "outputs": [],
     "prompt_number": 39
    },
    {
     "cell_type": "code",
     "collapsed": false,
     "input": [
      "doc.docno"
     ],
     "language": "python",
     "metadata": {},
     "outputs": [
      {
       "metadata": {},
       "output_type": "pyout",
       "prompt_number": 44,
       "text": [
        "'APW19980314.0423'"
       ]
      }
     ],
     "prompt_number": 44
    },
    {
     "cell_type": "code",
     "collapsed": false,
     "input": [
      "for doc in nist.parsed_docs():\n",
      "    article = ' '.join(doc.text.leaves())\n",
      "    article = article.replace(\" 's\", \"'s\")\n",
      "    article = article.replace(\" ,\", \",\")\n",
      "    article = article.replace(\" .\", \".\")\n",
      "    article = article.replace(\" !\", \"!\")\n",
      "    article = article.replace(\" ?\", \"?\")\n",
      "    article = article.replace(\"`` \", '\"')\n",
      "    article = article.replace(\"``\", '\"')\n",
      "    article = article.replace(\"`\", \"'\")\n",
      "    article = article.replace(\" ''\", '\"')\n",
      "    article = article.replace(\"''\", '\"')\n",
      "    article = article.replace(\"( \", '(')\n",
      "    article = article.replace(\" )\", ')')\n",
      "    with open('stanford-corenlp-full-2014-08-27/articles/' + doc.docno + '.txt', 'w') as outfile: \n",
      "        outfile.write(article)\n",
      "    with open('stanford-corenlp-full-2014-08-27/articles/all-articles.txt', 'a') as outfile: \n",
      "        outfile.write('articles/' + doc.docno + '.txt\\n')\n"
     ],
     "language": "python",
     "metadata": {},
     "outputs": [],
     "prompt_number": 49
    },
    {
     "cell_type": "code",
     "collapsed": false,
     "input": [
      "# stanford parser\n",
      "# get corefs\n",
      "# filter them by whether they are named entities (use NER character indexes)\n",
      "# create a new version of the article with the head reference substituted for any coreferences\n",
      "article[288:291]"
     ],
     "language": "python",
     "metadata": {},
     "outputs": [
      {
       "metadata": {},
       "output_type": "pyout",
       "prompt_number": 18,
       "text": [
        "'Moi'"
       ]
      }
     ],
     "prompt_number": 18
    }
   ],
   "metadata": {}
  }
 ]
}